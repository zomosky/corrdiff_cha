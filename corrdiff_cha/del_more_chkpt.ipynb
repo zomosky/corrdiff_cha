{
 "cells": [
  {
   "cell_type": "code",
   "execution_count": 72,
   "id": "initial_id",
   "metadata": {
    "ExecuteTime": {
     "end_time": "2024-11-19T01:54:40.650717Z",
     "start_time": "2024-11-19T01:54:40.605187Z"
    },
    "collapsed": true
   },
   "outputs": [],
   "source": [
    "import os"
   ]
  },
  {
   "cell_type": "code",
   "execution_count": 73,
   "id": "31bf5361cd68fd90",
   "metadata": {
    "ExecuteTime": {
     "end_time": "2024-11-19T01:54:46.956934Z",
     "start_time": "2024-11-19T01:54:40.651927Z"
    }
   },
   "outputs": [
    {
     "name": "stdout",
     "output_type": "stream",
     "text": [
      "All file num: 412 -> delete: 288\n"
     ]
    }
   ],
   "source": [
    "chkpath = '/home/sprixin/test/zhangmy/corrdiff/outputs/diffusion/checkpoints_diffusion/'\n",
    "delper = .7\n",
    "files = os.listdir(chkpath)\n",
    "delnum = sorted([int(f.split('.')[-2]) for f in files if 'mdlus' in f ])\n",
    "num = int(len(delnum)*delper)\n",
    "print(f'All file num: {len(delnum) *2} -> delete: {num *2}')"
   ]
  },
  {
   "cell_type": "code",
   "execution_count": 74,
   "id": "7b0eb9010492f3ca",
   "metadata": {
    "ExecuteTime": {
     "end_time": "2024-11-19T01:54:57.554856Z",
     "start_time": "2024-11-19T01:54:52.677323Z"
    }
   },
   "outputs": [],
   "source": [
    " \n",
    "\n",
    "for i in range(num):\n",
    "    if not os.path.exists(f'{chkpath}UNet.0.{delnum[i]}.mdlus'):\n",
    "        continue\n",
    "    else:\n",
    "        os.remove(f'{chkpath}UNet.0.{delnum[i]}.mdlus')\n",
    "\n",
    "for i in range(num):\n",
    "    if not os.path.exists(f'{chkpath}checkpoint.0.{delnum[i]}.pt'):\n",
    "        continue\n",
    "    else:\n",
    "        os.remove(f'{chkpath}checkpoint.0.{delnum[i]}.pt')\n",
    "\n",
    "for i in range(num):\n",
    "    if not os.path.exists(f'{chkpath}EDMPrecondSR.0.{delnum[i]}.mdlus'):\n",
    "        continue\n",
    "    else:\n",
    "        os.remove(f'{chkpath}EDMPrecondSR.0.{delnum[i]}.mdlus')"
   ]
  },
  {
   "cell_type": "code",
   "execution_count": null,
   "id": "194186a98c53ad2e",
   "metadata": {},
   "outputs": [],
   "source": []
  }
 ],
 "metadata": {
  "kernelspec": {
   "display_name": "Python 3",
   "language": "python",
   "name": "python3"
  },
  "language_info": {
   "codemirror_mode": {
    "name": "ipython",
    "version": 2
   },
   "file_extension": ".py",
   "mimetype": "text/x-python",
   "name": "python",
   "nbconvert_exporter": "python",
   "pygments_lexer": "ipython2",
   "version": "2.7.6"
  }
 },
 "nbformat": 4,
 "nbformat_minor": 5
}
