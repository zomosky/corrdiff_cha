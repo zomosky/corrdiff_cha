{
 "cells": [
  {
   "cell_type": "code",
   "execution_count": 1,
   "id": "2ac316c2c3238b77",
   "metadata": {
    "ExecuteTime": {
     "end_time": "2024-11-12T02:19:58.845899Z",
     "start_time": "2024-11-12T02:19:54.999742Z"
    }
   },
   "outputs": [],
   "source": [
    "import os\n",
    "os.environ[\"OMP_NUM_THREADS\"] = \"20\"  # 设置 OpenMP 线程数\n",
    "os.environ[\"MKL_NUM_THREADS\"] = \"20\"  # 设置 MKL 线程数\n",
    "os.environ[\"NUMEXPR_NUM_THREADS\"] = \"20\"  # 设置 NumExpr 线程数\n",
    "os.environ[\"VECLIB_MAXIMUM_THREADS\"] = \"20\"  # 设置 veclib 最大线程数\n",
    "os.environ['CUDA_VISIBLE_DEVICES'] = '1'\n",
    "import time, psutil, hydra, torch\n",
    "torch.set_num_threads(20)\n",
    "from hydra.utils import to_absolute_path\n",
    "from omegaconf import DictConfig, OmegaConf\n",
    "from torch.nn.parallel import DistributedDataParallel\n",
    "from torch.utils.tensorboard import SummaryWriter\n",
    "from modulus import Module\n",
    "from modulus.models.diffusion import UNet, EDMPrecondSR\n",
    "from modulus.distributed import DistributedManager\n",
    "from modulus.metrics.diffusion import RegressionLoss, ResLoss\n",
    "from modulus.launch.logging import PythonLogger, RankZeroLoggingWrapper\n",
    "from modulus.launch.utils import load_checkpoint, save_checkpoint\n",
    "from datasets.dataset import init_train_valid_datasets_from_config\n",
    "from helpers.train_helpers import (\n",
    "    set_patch_shape,\n",
    "    set_seed,\n",
    "    configure_cuda_for_consistent_precision,\n",
    "    compute_num_accumulation_rounds,\n",
    "    handle_and_clip_gradients,\n",
    "    is_time_for_periodic_task,\n",
    ")\n",
    "import warnings\n",
    "warnings.filterwarnings(\"ignore\")\n"
   ]
  },
  {
   "cell_type": "code",
   "execution_count": 2,
   "id": "d0949c9021199487",
   "metadata": {
    "ExecuteTime": {
     "end_time": "2024-11-12T02:24:57.178204Z",
     "start_time": "2024-11-12T02:24:56.911916Z"
    }
   },
   "outputs": [
    {
     "name": "stdout",
     "output_type": "stream",
     "text": [
      "============CorrDiff Downscale Conf============\n",
      "Conf list: ['dataset', 'model', 'training', 'validation']\n",
      "\n",
      "Conf Para --> dataset\n",
      "<<{'type': 'cwb', 'data_path': '/code/2023-01-24-cwb-4years.zarr', 'in_channels': [0, 1, 2, 3, 4, 9, 10, 11, 12, 17, 18, 19], 'out_channels': [0, 17, 18, 19], 'img_shape_x': 448, 'img_shape_y': 448, 'add_grid': True, 'ds_factor': 4, 'min_path': None, 'max_path': None, 'global_means_path': None, 'global_stds_path': None}>>\n",
      "\n",
      "Conf Para --> model\n",
      "<<{'name': 'regression', 'hr_mean_conditioning': False}>>\n",
      "\n",
      "Conf Para --> training\n",
      "<<{'hp': {'training_duration': 200000000, 'total_batch_size': 256, 'batch_size_per_gpu': 2, 'lr': 0.0002, 'grad_clip_threshold': None, 'lr_decay': 1, 'lr_rampup': 10000000}, 'perf': {'fp_optimizations': 'fp32', 'dataloader_workers': 2, 'songunet_checkpoint_level': 0}, 'io': {'print_progress_freq': 1000, 'save_checkpoint_freq': 5000, 'validation_freq': 5000, 'validation_steps': 10}}>>\n",
      "\n",
      "Conf Para --> validation\n",
      "<<{'train': False, 'all_times': False}>>\n"
     ]
    }
   ],
   "source": [
    "from omegaconf import OmegaConf\n",
    "import hydra\n",
    "from hydra import initialize, compose\n",
    "\n",
    "## 解析配置文件\n",
    "with initialize(config_path='conf',version_base= '1.2'):    \n",
    "    mainconf = compose(config_name = 'config_training_regression')\n",
    "    confkey = list(mainconf.keys())\n",
    "print('============CorrDiff Downscale Conf============')\n",
    "print(f\"Conf list: {confkey}\")\n",
    "for confn in confkey:\n",
    "    print(f\"\\nConf Para --> {confn}\")\n",
    "    print(f\"<<{mainconf[confn]}>>\")"
   ]
  },
  {
   "cell_type": "code",
   "execution_count": 3,
   "id": "42778fd5515fbe52",
   "metadata": {
    "ExecuteTime": {
     "end_time": "2024-11-12T02:25:00.593662Z",
     "start_time": "2024-11-12T02:25:00.590864Z"
    }
   },
   "outputs": [],
   "source": [
    "cfg = mainconf\n",
    "dataset_cfg = OmegaConf.to_container(cfg.dataset)"
   ]
  },
  {
   "cell_type": "code",
   "execution_count": 4,
   "id": "53296e2b10d84125",
   "metadata": {
    "ExecuteTime": {
     "end_time": "2024-11-12T02:25:01.196051Z",
     "start_time": "2024-11-12T02:25:01.192124Z"
    }
   },
   "outputs": [],
   "source": [
    "##\n",
    "cfg.dataset.data_path = '/home/sprixin/test/zhangmy/cwa_dataset/cwa_dataset.zarr'\n",
    "cfg.dataset.out_channels = [0,1,2,3]\n",
    "cfg.training.hp.batch_size_per_gpu = 1\n",
    "### downsample data size\n",
    "def datacrop(data,size):\n",
    "    start = data.shape[2]//2 - size//2\n",
    "    return data[:, :, start:start + size, start:start + size]\n",
    "###\n",
    "\n",
    "##"
   ]
  },
  {
   "cell_type": "code",
   "execution_count": 5,
   "id": "3a8a804cd85e3b11",
   "metadata": {
    "ExecuteTime": {
     "end_time": "2024-11-12T02:25:02.253082Z",
     "start_time": "2024-11-12T02:25:02.142703Z"
    }
   },
   "outputs": [],
   "source": [
    " # Initialize distributed environment for training\n",
    "DistributedManager.initialize()\n",
    "dist = DistributedManager()\n",
    "\n",
    "# Initialize loggers\n",
    "if dist.rank == 0:\n",
    "    writer = SummaryWriter(log_dir=\"tensorboard\")\n",
    "logger = PythonLogger(\"main\")  # General python logger\n",
    "logger0 = RankZeroLoggingWrapper(logger, dist)  # Rank 0 logger\n",
    "\n",
    "# Resolve and parse configs\n",
    "OmegaConf.resolve(cfg)\n",
    "dataset_cfg = OmegaConf.to_container(cfg.dataset)  # TODO needs better handling\n",
    "if hasattr(cfg, \"validation_dataset\"):\n",
    "    validation_dataset_cfg = OmegaConf.to_container(cfg.validation_dataset)\n",
    "else:\n",
    "    validation_dataset_cfg = None\n",
    "fp_optimizations = cfg.training.perf.fp_optimizations\n",
    "fp16 = fp_optimizations == \"fp16\"\n",
    "enable_amp = fp_optimizations.startswith(\"amp\")\n",
    "amp_dtype = torch.float16 if (fp_optimizations == \"amp-fp16\") else torch.bfloat16\n",
    "logger.info(f\"Saving the outputs in {os.getcwd()}\")\n",
    "\n",
    "# Set seeds and configure CUDA and cuDNN settings to ensure consistent precision\n",
    "set_seed(dist.rank)\n",
    "configure_cuda_for_consistent_precision()\n",
    "\n",
    "# Instantiate the dataset\n",
    "data_loader_kwargs = {\n",
    "    \"pin_memory\": True,\n",
    "    \"num_workers\": cfg.training.perf.dataloader_workers,\n",
    "    \"prefetch_factor\": 2,\n",
    "}"
   ]
  },
  {
   "cell_type": "code",
   "execution_count": 6,
   "id": "2a47d7c826283406",
   "metadata": {
    "ExecuteTime": {
     "end_time": "2024-11-12T02:25:03.751770Z",
     "start_time": "2024-11-12T02:25:03.493076Z"
    }
   },
   "outputs": [],
   "source": [
    "(\n",
    "    dataset,\n",
    "    dataset_iterator,\n",
    "    validation_dataset,\n",
    "    validation_dataset_iterator,\n",
    ") = init_train_valid_datasets_from_config(\n",
    "    dataset_cfg,\n",
    "    data_loader_kwargs,\n",
    "    batch_size=cfg.training.hp.batch_size_per_gpu,\n",
    "    seed=0,\n",
    "    validation_dataset_cfg=validation_dataset_cfg,\n",
    ")"
   ]
  },
  {
   "cell_type": "code",
   "execution_count": 11,
   "id": "70127eab27550fb9",
   "metadata": {
    "ExecuteTime": {
     "end_time": "2024-10-31T09:49:46.365981Z",
     "start_time": "2024-10-31T09:49:46.360481Z"
    }
   },
   "outputs": [],
   "source": [
    " # Parse image configuration & update model args\n",
    "dataset_channels = len(dataset.input_channels())\n",
    "img_in_channels = dataset_channels\n",
    "img_shape = dataset.image_shape()\n",
    "img_out_channels = len(dataset.output_channels())\n",
    "# if cfg.model.hr_mean_conditioning:\n",
    "#     img_in_channels += img_out_channels"
   ]
  },
  {
   "cell_type": "code",
   "execution_count": 12,
   "id": "13b4b05787590aac",
   "metadata": {
    "ExecuteTime": {
     "end_time": "2024-10-31T09:49:47.593022Z",
     "start_time": "2024-10-31T09:49:47.586906Z"
    }
   },
   "outputs": [
    {
     "name": "stderr",
     "output_type": "stream",
     "text": [
      "[17:49:47 - main - INFO] \u001b[94mPatch-based training disabled\u001b[0m\n"
     ]
    }
   ],
   "source": [
    "# Parse the patch shape\n",
    "if cfg.model.name == \"patched_diffusion\":\n",
    "    patch_shape_x = cfg.training.hp.patch_shape_x\n",
    "    patch_shape_y = cfg.training.hp.patch_shape_y\n",
    "else:\n",
    "    patch_shape_x = None\n",
    "    patch_shape_y = None\n",
    "patch_shape = (patch_shape_y, patch_shape_x)\n",
    "img_shape, patch_shape = set_patch_shape(img_shape, patch_shape)\n",
    "if patch_shape != img_shape:\n",
    "    logger0.info(\"Patch-based training enabled\")\n",
    "else:\n",
    "    logger0.info(\"Patch-based training disabled\")\n",
    "# interpolate global channel if patch-based model is used\n",
    "if img_shape[1] != patch_shape[1]:\n",
    "    img_in_channels += dataset_channels"
   ]
  },
  {
   "cell_type": "code",
   "execution_count": 13,
   "id": "b019a292e6e199ae",
   "metadata": {
    "ExecuteTime": {
     "end_time": "2024-10-31T09:49:48.753637Z",
     "start_time": "2024-10-31T09:49:48.749551Z"
    }
   },
   "outputs": [],
   "source": [
    "if cfg.model.name not in (\"regression\", \"diffusion\", \"patched_diffusion\"):\n",
    "    raise ValueError(\"Invalid model\")\n",
    "model_args = {  # default parameters for all networks\n",
    "    \"img_out_channels\": img_out_channels,\n",
    "    # \"img_resolution\": list(img_shape),\n",
    "    \"img_resolution\": img_shape[0],\n",
    "    \"use_fp16\": fp16,\n",
    "}\n",
    "standard_model_cfgs = {  # default parameters for different network types\n",
    "    \"regression\": {\n",
    "        \"img_channels\": 4,\n",
    "        \"N_grid_channels\": 4,\n",
    "        \"embedding_type\": \"zero\",\n",
    "    },\n",
    "    \"diffusion\": {\n",
    "        \"img_channels\": img_out_channels,\n",
    "        \"gridtype\": \"sinusoidal\",\n",
    "        \"N_grid_channels\": 4,\n",
    "    },\n",
    "    \"patched_diffusion\": {\n",
    "        \"img_channels\": img_out_channels,\n",
    "        \"gridtype\": \"learnable\",\n",
    "        \"N_grid_channels\": 100,\n",
    "    },\n",
    "}"
   ]
  },
  {
   "cell_type": "code",
   "execution_count": 14,
   "id": "1bdd2ed4907aa42f",
   "metadata": {
    "ExecuteTime": {
     "end_time": "2024-10-31T09:49:49.763363Z",
     "start_time": "2024-10-31T09:49:49.759011Z"
    }
   },
   "outputs": [],
   "source": [
    "model_args.update(standard_model_cfgs[cfg.model.name])\n",
    "if hasattr(cfg.model, \"model_args\"):  # override defaults from config file\n",
    "    model_args.update(OmegaConf.to_container(cfg.model.model_args))\n",
    "model_args_para = model_args.copy()\n",
    "N_grid_channels = model_args_para.pop('N_grid_channels')\n",
    "if cfg.model.name == \"regression\":\n",
    "    embedding_type = model_args_para.pop('embedding_type')\n",
    "else:\n",
    "    gridtype = model_args_para.pop('gridtype')"
   ]
  },
  {
   "cell_type": "markdown",
   "id": "59859d0f3c1cb199",
   "metadata": {},
   "source": [
    "## resample"
   ]
  },
  {
   "cell_type": "code",
   "execution_count": 15,
   "id": "c59c56783681dab1",
   "metadata": {
    "ExecuteTime": {
     "end_time": "2024-10-31T09:49:51.337583Z",
     "start_time": "2024-10-31T09:49:51.334691Z"
    }
   },
   "outputs": [],
   "source": [
    "###\n",
    "cropsize = 64\n",
    "model_args_para['img_resolution'] = cropsize \n",
    "###"
   ]
  },
  {
   "cell_type": "code",
   "execution_count": 16,
   "id": "60a0fe6d76ffee3a",
   "metadata": {
    "ExecuteTime": {
     "end_time": "2024-10-31T09:49:56.443075Z",
     "start_time": "2024-10-31T09:49:51.937800Z"
    }
   },
   "outputs": [
    {
     "data": {
      "text/plain": [
       "UNet(\n",
       "  (model): DhariwalUNet(\n",
       "    (map_noise): PositionalEmbedding()\n",
       "    (map_layer0): Linear()\n",
       "    (map_layer1): Linear()\n",
       "    (enc): ModuleDict(\n",
       "      (64x64_conv): Conv2d()\n",
       "      (64x64_block0): UNetBlock(\n",
       "        (norm0): GroupNorm()\n",
       "        (conv0): Conv2d()\n",
       "        (affine): Linear()\n",
       "        (norm1): GroupNorm()\n",
       "        (conv1): Conv2d()\n",
       "      )\n",
       "      (64x64_block1): UNetBlock(\n",
       "        (norm0): GroupNorm()\n",
       "        (conv0): Conv2d()\n",
       "        (affine): Linear()\n",
       "        (norm1): GroupNorm()\n",
       "        (conv1): Conv2d()\n",
       "      )\n",
       "      (64x64_block2): UNetBlock(\n",
       "        (norm0): GroupNorm()\n",
       "        (conv0): Conv2d()\n",
       "        (affine): Linear()\n",
       "        (norm1): GroupNorm()\n",
       "        (conv1): Conv2d()\n",
       "      )\n",
       "      (32x32_down): UNetBlock(\n",
       "        (norm0): GroupNorm()\n",
       "        (conv0): Conv2d()\n",
       "        (affine): Linear()\n",
       "        (norm1): GroupNorm()\n",
       "        (conv1): Conv2d()\n",
       "        (skip): Conv2d()\n",
       "      )\n",
       "      (32x32_block0): UNetBlock(\n",
       "        (norm0): GroupNorm()\n",
       "        (conv0): Conv2d()\n",
       "        (affine): Linear()\n",
       "        (norm1): GroupNorm()\n",
       "        (conv1): Conv2d()\n",
       "        (skip): Conv2d()\n",
       "        (norm2): GroupNorm()\n",
       "        (qkv): Conv2d()\n",
       "        (proj): Conv2d()\n",
       "      )\n",
       "      (32x32_block1): UNetBlock(\n",
       "        (norm0): GroupNorm()\n",
       "        (conv0): Conv2d()\n",
       "        (affine): Linear()\n",
       "        (norm1): GroupNorm()\n",
       "        (conv1): Conv2d()\n",
       "        (norm2): GroupNorm()\n",
       "        (qkv): Conv2d()\n",
       "        (proj): Conv2d()\n",
       "      )\n",
       "      (32x32_block2): UNetBlock(\n",
       "        (norm0): GroupNorm()\n",
       "        (conv0): Conv2d()\n",
       "        (affine): Linear()\n",
       "        (norm1): GroupNorm()\n",
       "        (conv1): Conv2d()\n",
       "        (norm2): GroupNorm()\n",
       "        (qkv): Conv2d()\n",
       "        (proj): Conv2d()\n",
       "      )\n",
       "      (16x16_down): UNetBlock(\n",
       "        (norm0): GroupNorm()\n",
       "        (conv0): Conv2d()\n",
       "        (affine): Linear()\n",
       "        (norm1): GroupNorm()\n",
       "        (conv1): Conv2d()\n",
       "        (skip): Conv2d()\n",
       "      )\n",
       "      (16x16_block0): UNetBlock(\n",
       "        (norm0): GroupNorm()\n",
       "        (conv0): Conv2d()\n",
       "        (affine): Linear()\n",
       "        (norm1): GroupNorm()\n",
       "        (conv1): Conv2d()\n",
       "        (skip): Conv2d()\n",
       "        (norm2): GroupNorm()\n",
       "        (qkv): Conv2d()\n",
       "        (proj): Conv2d()\n",
       "      )\n",
       "      (16x16_block1): UNetBlock(\n",
       "        (norm0): GroupNorm()\n",
       "        (conv0): Conv2d()\n",
       "        (affine): Linear()\n",
       "        (norm1): GroupNorm()\n",
       "        (conv1): Conv2d()\n",
       "        (norm2): GroupNorm()\n",
       "        (qkv): Conv2d()\n",
       "        (proj): Conv2d()\n",
       "      )\n",
       "      (16x16_block2): UNetBlock(\n",
       "        (norm0): GroupNorm()\n",
       "        (conv0): Conv2d()\n",
       "        (affine): Linear()\n",
       "        (norm1): GroupNorm()\n",
       "        (conv1): Conv2d()\n",
       "        (norm2): GroupNorm()\n",
       "        (qkv): Conv2d()\n",
       "        (proj): Conv2d()\n",
       "      )\n",
       "      (8x8_down): UNetBlock(\n",
       "        (norm0): GroupNorm()\n",
       "        (conv0): Conv2d()\n",
       "        (affine): Linear()\n",
       "        (norm1): GroupNorm()\n",
       "        (conv1): Conv2d()\n",
       "        (skip): Conv2d()\n",
       "      )\n",
       "      (8x8_block0): UNetBlock(\n",
       "        (norm0): GroupNorm()\n",
       "        (conv0): Conv2d()\n",
       "        (affine): Linear()\n",
       "        (norm1): GroupNorm()\n",
       "        (conv1): Conv2d()\n",
       "        (skip): Conv2d()\n",
       "        (norm2): GroupNorm()\n",
       "        (qkv): Conv2d()\n",
       "        (proj): Conv2d()\n",
       "      )\n",
       "      (8x8_block1): UNetBlock(\n",
       "        (norm0): GroupNorm()\n",
       "        (conv0): Conv2d()\n",
       "        (affine): Linear()\n",
       "        (norm1): GroupNorm()\n",
       "        (conv1): Conv2d()\n",
       "        (norm2): GroupNorm()\n",
       "        (qkv): Conv2d()\n",
       "        (proj): Conv2d()\n",
       "      )\n",
       "      (8x8_block2): UNetBlock(\n",
       "        (norm0): GroupNorm()\n",
       "        (conv0): Conv2d()\n",
       "        (affine): Linear()\n",
       "        (norm1): GroupNorm()\n",
       "        (conv1): Conv2d()\n",
       "        (norm2): GroupNorm()\n",
       "        (qkv): Conv2d()\n",
       "        (proj): Conv2d()\n",
       "      )\n",
       "    )\n",
       "    (dec): ModuleDict(\n",
       "      (8x8_in0): UNetBlock(\n",
       "        (norm0): GroupNorm()\n",
       "        (conv0): Conv2d()\n",
       "        (affine): Linear()\n",
       "        (norm1): GroupNorm()\n",
       "        (conv1): Conv2d()\n",
       "        (norm2): GroupNorm()\n",
       "        (qkv): Conv2d()\n",
       "        (proj): Conv2d()\n",
       "      )\n",
       "      (8x8_in1): UNetBlock(\n",
       "        (norm0): GroupNorm()\n",
       "        (conv0): Conv2d()\n",
       "        (affine): Linear()\n",
       "        (norm1): GroupNorm()\n",
       "        (conv1): Conv2d()\n",
       "      )\n",
       "      (8x8_block0): UNetBlock(\n",
       "        (norm0): GroupNorm()\n",
       "        (conv0): Conv2d()\n",
       "        (affine): Linear()\n",
       "        (norm1): GroupNorm()\n",
       "        (conv1): Conv2d()\n",
       "        (skip): Conv2d()\n",
       "        (norm2): GroupNorm()\n",
       "        (qkv): Conv2d()\n",
       "        (proj): Conv2d()\n",
       "      )\n",
       "      (8x8_block1): UNetBlock(\n",
       "        (norm0): GroupNorm()\n",
       "        (conv0): Conv2d()\n",
       "        (affine): Linear()\n",
       "        (norm1): GroupNorm()\n",
       "        (conv1): Conv2d()\n",
       "        (skip): Conv2d()\n",
       "        (norm2): GroupNorm()\n",
       "        (qkv): Conv2d()\n",
       "        (proj): Conv2d()\n",
       "      )\n",
       "      (8x8_block2): UNetBlock(\n",
       "        (norm0): GroupNorm()\n",
       "        (conv0): Conv2d()\n",
       "        (affine): Linear()\n",
       "        (norm1): GroupNorm()\n",
       "        (conv1): Conv2d()\n",
       "        (skip): Conv2d()\n",
       "        (norm2): GroupNorm()\n",
       "        (qkv): Conv2d()\n",
       "        (proj): Conv2d()\n",
       "      )\n",
       "      (8x8_block3): UNetBlock(\n",
       "        (norm0): GroupNorm()\n",
       "        (conv0): Conv2d()\n",
       "        (affine): Linear()\n",
       "        (norm1): GroupNorm()\n",
       "        (conv1): Conv2d()\n",
       "        (skip): Conv2d()\n",
       "        (norm2): GroupNorm()\n",
       "        (qkv): Conv2d()\n",
       "        (proj): Conv2d()\n",
       "      )\n",
       "      (16x16_up): UNetBlock(\n",
       "        (norm0): GroupNorm()\n",
       "        (conv0): Conv2d()\n",
       "        (affine): Linear()\n",
       "        (norm1): GroupNorm()\n",
       "        (conv1): Conv2d()\n",
       "        (skip): Conv2d()\n",
       "      )\n",
       "      (16x16_block0): UNetBlock(\n",
       "        (norm0): GroupNorm()\n",
       "        (conv0): Conv2d()\n",
       "        (affine): Linear()\n",
       "        (norm1): GroupNorm()\n",
       "        (conv1): Conv2d()\n",
       "        (skip): Conv2d()\n",
       "        (norm2): GroupNorm()\n",
       "        (qkv): Conv2d()\n",
       "        (proj): Conv2d()\n",
       "      )\n",
       "      (16x16_block1): UNetBlock(\n",
       "        (norm0): GroupNorm()\n",
       "        (conv0): Conv2d()\n",
       "        (affine): Linear()\n",
       "        (norm1): GroupNorm()\n",
       "        (conv1): Conv2d()\n",
       "        (skip): Conv2d()\n",
       "        (norm2): GroupNorm()\n",
       "        (qkv): Conv2d()\n",
       "        (proj): Conv2d()\n",
       "      )\n",
       "      (16x16_block2): UNetBlock(\n",
       "        (norm0): GroupNorm()\n",
       "        (conv0): Conv2d()\n",
       "        (affine): Linear()\n",
       "        (norm1): GroupNorm()\n",
       "        (conv1): Conv2d()\n",
       "        (skip): Conv2d()\n",
       "        (norm2): GroupNorm()\n",
       "        (qkv): Conv2d()\n",
       "        (proj): Conv2d()\n",
       "      )\n",
       "      (16x16_block3): UNetBlock(\n",
       "        (norm0): GroupNorm()\n",
       "        (conv0): Conv2d()\n",
       "        (affine): Linear()\n",
       "        (norm1): GroupNorm()\n",
       "        (conv1): Conv2d()\n",
       "        (skip): Conv2d()\n",
       "        (norm2): GroupNorm()\n",
       "        (qkv): Conv2d()\n",
       "        (proj): Conv2d()\n",
       "      )\n",
       "      (32x32_up): UNetBlock(\n",
       "        (norm0): GroupNorm()\n",
       "        (conv0): Conv2d()\n",
       "        (affine): Linear()\n",
       "        (norm1): GroupNorm()\n",
       "        (conv1): Conv2d()\n",
       "        (skip): Conv2d()\n",
       "      )\n",
       "      (32x32_block0): UNetBlock(\n",
       "        (norm0): GroupNorm()\n",
       "        (conv0): Conv2d()\n",
       "        (affine): Linear()\n",
       "        (norm1): GroupNorm()\n",
       "        (conv1): Conv2d()\n",
       "        (skip): Conv2d()\n",
       "        (norm2): GroupNorm()\n",
       "        (qkv): Conv2d()\n",
       "        (proj): Conv2d()\n",
       "      )\n",
       "      (32x32_block1): UNetBlock(\n",
       "        (norm0): GroupNorm()\n",
       "        (conv0): Conv2d()\n",
       "        (affine): Linear()\n",
       "        (norm1): GroupNorm()\n",
       "        (conv1): Conv2d()\n",
       "        (skip): Conv2d()\n",
       "        (norm2): GroupNorm()\n",
       "        (qkv): Conv2d()\n",
       "        (proj): Conv2d()\n",
       "      )\n",
       "      (32x32_block2): UNetBlock(\n",
       "        (norm0): GroupNorm()\n",
       "        (conv0): Conv2d()\n",
       "        (affine): Linear()\n",
       "        (norm1): GroupNorm()\n",
       "        (conv1): Conv2d()\n",
       "        (skip): Conv2d()\n",
       "        (norm2): GroupNorm()\n",
       "        (qkv): Conv2d()\n",
       "        (proj): Conv2d()\n",
       "      )\n",
       "      (32x32_block3): UNetBlock(\n",
       "        (norm0): GroupNorm()\n",
       "        (conv0): Conv2d()\n",
       "        (affine): Linear()\n",
       "        (norm1): GroupNorm()\n",
       "        (conv1): Conv2d()\n",
       "        (skip): Conv2d()\n",
       "        (norm2): GroupNorm()\n",
       "        (qkv): Conv2d()\n",
       "        (proj): Conv2d()\n",
       "      )\n",
       "      (64x64_up): UNetBlock(\n",
       "        (norm0): GroupNorm()\n",
       "        (conv0): Conv2d()\n",
       "        (affine): Linear()\n",
       "        (norm1): GroupNorm()\n",
       "        (conv1): Conv2d()\n",
       "        (skip): Conv2d()\n",
       "      )\n",
       "      (64x64_block0): UNetBlock(\n",
       "        (norm0): GroupNorm()\n",
       "        (conv0): Conv2d()\n",
       "        (affine): Linear()\n",
       "        (norm1): GroupNorm()\n",
       "        (conv1): Conv2d()\n",
       "        (skip): Conv2d()\n",
       "      )\n",
       "      (64x64_block1): UNetBlock(\n",
       "        (norm0): GroupNorm()\n",
       "        (conv0): Conv2d()\n",
       "        (affine): Linear()\n",
       "        (norm1): GroupNorm()\n",
       "        (conv1): Conv2d()\n",
       "        (skip): Conv2d()\n",
       "      )\n",
       "      (64x64_block2): UNetBlock(\n",
       "        (norm0): GroupNorm()\n",
       "        (conv0): Conv2d()\n",
       "        (affine): Linear()\n",
       "        (norm1): GroupNorm()\n",
       "        (conv1): Conv2d()\n",
       "        (skip): Conv2d()\n",
       "      )\n",
       "      (64x64_block3): UNetBlock(\n",
       "        (norm0): GroupNorm()\n",
       "        (conv0): Conv2d()\n",
       "        (affine): Linear()\n",
       "        (norm1): GroupNorm()\n",
       "        (conv1): Conv2d()\n",
       "        (skip): Conv2d()\n",
       "      )\n",
       "    )\n",
       "    (out_norm): GroupNorm()\n",
       "    (out_conv): Conv2d()\n",
       "  )\n",
       ")"
      ]
     },
     "execution_count": 16,
     "metadata": {},
     "output_type": "execute_result"
    }
   ],
   "source": [
    "if cfg.model.name == \"regression\":\n",
    "    model = UNet(\n",
    "        img_in_channels=img_in_channels,# + model_args[\"N_grid_channels\"],\n",
    "        **model_args_para,\n",
    "    )\n",
    "else:  # diffusion or patched diffusion\n",
    "    model = EDMPrecondSR(\n",
    "        img_in_channels=img_in_channels,# + model_args[\"N_grid_channels\"],\n",
    "        **model_args_para,\n",
    "    )\n",
    "model.train().requires_grad_(True).to(dist.device)"
   ]
  },
  {
   "cell_type": "code",
   "execution_count": 17,
   "id": "3ff3aa7f7a1e7e30",
   "metadata": {
    "ExecuteTime": {
     "end_time": "2024-10-31T09:49:57.419390Z",
     "start_time": "2024-10-31T09:49:57.415263Z"
    }
   },
   "outputs": [],
   "source": [
    "# Enable distributed data parallel if applicable\n",
    "if dist.world_size > 1:\n",
    "    model = DistributedDataParallel(\n",
    "        model,\n",
    "        device_ids=[dist.local_rank],\n",
    "        broadcast_buffers=True,\n",
    "        output_device=dist.device,\n",
    "        find_unused_parameters=dist.find_unused_parameters,\n",
    "    )"
   ]
  },
  {
   "cell_type": "code",
   "execution_count": 18,
   "id": "d52f43fc0a015d60",
   "metadata": {
    "ExecuteTime": {
     "end_time": "2024-10-31T09:49:58.517774Z",
     "start_time": "2024-10-31T09:49:58.512101Z"
    }
   },
   "outputs": [],
   "source": [
    "# Load the regression checkpoint if applicable\n",
    "if hasattr(cfg.training.io, \"regression_checkpoint_path\"):\n",
    "    regression_checkpoint_path = to_absolute_path(\n",
    "        cfg.training.io.regression_checkpoint_path\n",
    "    )\n",
    "    if not os.path.exists(regression_checkpoint_path):\n",
    "        raise FileNotFoundError(\n",
    "            f\"Expected a this regression checkpoint but not found: {regression_checkpoint_path}\"\n",
    "        )\n",
    "    regression_net = Module.from_checkpoint(regression_checkpoint_path)\n",
    "    regression_net.eval().requires_grad_(False).to(dist.device)\n",
    "    logger0.success(\"Loaded the pre-trained regression model\")"
   ]
  },
  {
   "cell_type": "code",
   "execution_count": 19,
   "id": "823e4497a69f8575",
   "metadata": {
    "ExecuteTime": {
     "end_time": "2024-10-31T09:49:59.423050Z",
     "start_time": "2024-10-31T09:49:59.419598Z"
    }
   },
   "outputs": [],
   "source": [
    "###\n",
    "\n",
    "patch_shape = (cropsize, cropsize)\n",
    "img_shape = (cropsize, cropsize)\n",
    "###"
   ]
  },
  {
   "cell_type": "code",
   "execution_count": 20,
   "id": "efe4063009a5c412",
   "metadata": {
    "ExecuteTime": {
     "end_time": "2024-10-31T09:50:00.830132Z",
     "start_time": "2024-10-31T09:50:00.159190Z"
    }
   },
   "outputs": [
    {
     "name": "stderr",
     "output_type": "stream",
     "text": [
      "[17:50:00 - main - INFO] \u001b[94mUsing 256 gradient accumulation rounds\u001b[0m\n"
     ]
    }
   ],
   "source": [
    "\n",
    "# Instantiate the loss function\n",
    "patch_num = getattr(cfg.training.hp, \"patch_num\", 1)\n",
    "if cfg.model.name in (\"diffusion\", \"patched_diffusion\"):\n",
    "    loss_fn = ResLoss(\n",
    "        regression_net=regression_net,\n",
    "        img_shape_x=img_shape[1],\n",
    "        img_shape_y=img_shape[0],\n",
    "        patch_shape_x=patch_shape[1],\n",
    "        patch_shape_y=patch_shape[0],\n",
    "        patch_num=patch_num,\n",
    "        # hr_mean_conditioning=cfg.model.hr_mean_conditioning,\n",
    "    )\n",
    "elif cfg.model.name == \"regression\":\n",
    "    loss_fn = RegressionLoss()\n",
    "\n",
    "# Instantiate the optimizer\n",
    "optimizer = torch.optim.Adam(\n",
    "    params=model.parameters(), lr=cfg.training.hp.lr, betas=[0.9, 0.999], eps=1e-8\n",
    ")\n",
    "\n",
    "# Record the current time to measure the duration of subsequent operations.\n",
    "start_time = time.time()\n",
    "\n",
    "# Compute the number of required gradient accumulation rounds\n",
    "# It is automatically used if batch_size_per_gpu * dist.world_size < total_batch_size\n",
    "batch_gpu_total, num_accumulation_rounds = compute_num_accumulation_rounds(\n",
    "    cfg.training.hp.total_batch_size,\n",
    "    cfg.training.hp.batch_size_per_gpu,\n",
    "    dist.world_size,\n",
    ")\n",
    "batch_size_per_gpu = cfg.training.hp.batch_size_per_gpu\n",
    "logger0.info(f\"Using {num_accumulation_rounds} gradient accumulation rounds\")"
   ]
  },
  {
   "cell_type": "code",
   "execution_count": 21,
   "id": "4b0793031356972b",
   "metadata": {
    "ExecuteTime": {
     "end_time": "2024-10-31T09:50:06.154258Z",
     "start_time": "2024-10-31T09:50:01.011307Z"
    }
   },
   "outputs": [
    {
     "name": "stderr",
     "output_type": "stream",
     "text": [
      "[17:50:03 - checkpoint - INFO] \u001b[92mLoaded model state dictionary /home/sprixin/test/zhangmy/corrdiff/checkpoints_regression/UNet.0.5120.mdlus to device cuda:0\u001b[0m\n",
      "[17:50:06 - checkpoint - INFO] \u001b[92mLoaded checkpoint file /home/sprixin/test/zhangmy/corrdiff/checkpoints_regression/checkpoint.0.5120.pt to device cuda:0\u001b[0m\n",
      "[17:50:06 - checkpoint - INFO] \u001b[92mLoaded optimizer state dictionary\u001b[0m\n"
     ]
    }
   ],
   "source": [
    "\n",
    "## Resume training from previous checkpoints if exists\n",
    "if dist.world_size > 1:\n",
    "    torch.distributed.barrier()\n",
    "try:\n",
    "    cur_nimg = load_checkpoint(\n",
    "        path=f\"checkpoints_{cfg.model.name}\",\n",
    "        models=model,\n",
    "        optimizer=optimizer,\n",
    "        device=dist.device,\n",
    "    )\n",
    "except:\n",
    "    cur_nimg = 0"
   ]
  },
  {
   "cell_type": "code",
   "execution_count": null,
   "id": "40829e30636c851a",
   "metadata": {
    "ExecuteTime": {
     "start_time": "2024-10-31T09:50:14.861127Z"
    }
   },
   "outputs": [
    {
     "name": "stderr",
     "output_type": "stream",
     "text": [
      "[17:50:14 - main - INFO] \u001b[94mTraining for 200000000 images...\u001b[0m\n",
      "[17:51:50 - main - INFO] \u001b[94msamples 6144.0    training_loss 17320.58 learning_rate 0.00000012 total_sec 109.8   sec_per_tick 22.9    sec_per_sample 0.09    cpu_mem_gb 2.23   peak_gpu_mem_gb 22.33  peak_gpu_mem_reserved_gb 22.40 \u001b[0m\n",
      "[17:53:21 - main - INFO] \u001b[94msamples 7168.0    training_loss 17975.57 learning_rate 0.00000014 total_sec 200.5   sec_per_tick 22.8    sec_per_sample 0.09    cpu_mem_gb 2.22   peak_gpu_mem_gb 5.61   peak_gpu_mem_reserved_gb 5.75  \u001b[0m\n",
      "[17:54:50 - main - INFO] \u001b[94msamples 8192.0    training_loss 17579.66 learning_rate 0.00000016 total_sec 289.9   sec_per_tick 22.1    sec_per_sample 0.09    cpu_mem_gb 2.22   peak_gpu_mem_gb 5.61   peak_gpu_mem_reserved_gb 5.75  \u001b[0m\n",
      "[17:56:18 - main - INFO] \u001b[94msamples 9216.0    training_loss 18374.59 learning_rate 0.00000018 total_sec 377.7   sec_per_tick 21.6    sec_per_sample 0.08    cpu_mem_gb 2.22   peak_gpu_mem_gb 5.61   peak_gpu_mem_reserved_gb 5.75  \u001b[0m\n",
      "[17:57:44 - main - INFO] \u001b[94msamples 10240.0   training_loss 18575.98 learning_rate 0.00000020 total_sec 463.6   sec_per_tick 21.2    sec_per_sample 0.08    cpu_mem_gb 2.22   peak_gpu_mem_gb 5.61   peak_gpu_mem_reserved_gb 5.75  \u001b[0m\n",
      "[17:57:47 - checkpoint - INFO] \u001b[92mSaved model state dictionary: /home/sprixin/test/zhangmy/corrdiff/checkpoints_regression/UNet.0.10240.mdlus\u001b[0m\n",
      "[17:57:50 - checkpoint - INFO] \u001b[92mSaved training checkpoint: /home/sprixin/test/zhangmy/corrdiff/checkpoints_regression/checkpoint.0.10240.pt\u001b[0m\n",
      "[17:58:59 - main - INFO] \u001b[94msamples 11008.0   training_loss 17689.37 learning_rate 0.00000022 total_sec 538.2   sec_per_tick 20.2    sec_per_sample 0.08    cpu_mem_gb 2.25   peak_gpu_mem_gb 5.61   peak_gpu_mem_reserved_gb 5.75  \u001b[0m\n"
     ]
    }
   ],
   "source": [
    "###########################################################################\n",
    "#                            MAIN TRAINING LOOP                            #\n",
    "############################################################################\n",
    "\n",
    "logger0.info(f\"Training for {cfg.training.hp.training_duration} images...\")\n",
    "done = False\n",
    "while not done:\n",
    "    tick_start_nimg = cur_nimg\n",
    "    tick_start_time = time.time()\n",
    "    # Compute & accumulate gradients\n",
    "    optimizer.zero_grad(set_to_none=True)\n",
    "    loss_accum = 0\n",
    "    for _ in range(num_accumulation_rounds):\n",
    "        img_clean, img_lr, labels = next(dataset_iterator)\n",
    "        \n",
    "        ###\n",
    "        img_clean = datacrop(img_clean, size = cropsize)\n",
    "        img_lr = datacrop(img_lr, size = cropsize)\n",
    "        ###\n",
    "        \n",
    "        \n",
    "        img_clean = img_clean.to(dist.device).to(torch.float32).contiguous()\n",
    "        img_lr = img_lr.to(dist.device).to(torch.float32).contiguous()\n",
    "        labels = labels.to(dist.device).contiguous()\n",
    "        with torch.autocast(\"cuda\", dtype=torch.float32, enabled=enable_amp):\n",
    "            loss = loss_fn(\n",
    "                net=model,\n",
    "                img_clean=img_clean,\n",
    "                img_lr=img_lr,\n",
    "                labels=labels,\n",
    "                augment_pipe=None,\n",
    "            )\n",
    "        loss = loss.sum() / batch_size_per_gpu\n",
    "        loss_accum += loss / num_accumulation_rounds\n",
    "        loss.backward()\n",
    "\n",
    "    loss_sum = torch.tensor([loss_accum], device=dist.device)\n",
    "    if dist.world_size > 1:\n",
    "        torch.distributed.barrier()\n",
    "        torch.distributed.all_reduce(loss_sum, op=torch.distributed.ReduceOp.SUM)\n",
    "    average_loss = (loss_sum / dist.world_size).cpu().item()\n",
    "    if dist.rank == 0:\n",
    "        writer.add_scalar(\"training_loss\", average_loss, cur_nimg)\n",
    "\n",
    "    # Update weights.\n",
    "    lr_rampup = cfg.training.hp.lr_rampup  # ramp up the learning rate\n",
    "    for g in optimizer.param_groups:\n",
    "        if lr_rampup > 0:\n",
    "            g[\"lr\"] = cfg.training.hp.lr * min(cur_nimg / lr_rampup, 1)\n",
    "        if cur_nimg >= lr_rampup:\n",
    "            g[\"lr\"] *= cfg.training.hp.lr_decay ** ((cur_nimg - lr_rampup) // 5e6)\n",
    "        current_lr = g[\"lr\"]\n",
    "        if dist.rank == 0:\n",
    "            writer.add_scalar(\"learning_rate\", current_lr, cur_nimg)\n",
    "    handle_and_clip_gradients(\n",
    "        model, grad_clip_threshold=cfg.training.hp.grad_clip_threshold\n",
    "    )\n",
    "    optimizer.step()\n",
    "\n",
    "    cur_nimg += cfg.training.hp.total_batch_size\n",
    "    done = cur_nimg >= cfg.training.hp.training_duration\n",
    "\n",
    "    # Validation\n",
    "    if validation_dataset_iterator is not None:\n",
    "        valid_loss_accum = 0\n",
    "        if is_time_for_periodic_task(\n",
    "                cur_nimg,\n",
    "                cfg.training.io.validation_freq,\n",
    "                done,\n",
    "                cfg.training.hp.total_batch_size,\n",
    "                dist.rank,\n",
    "        ):\n",
    "            with torch.no_grad():\n",
    "                for _ in range(cfg.training.io.validation_steps):\n",
    "                    img_clean_valid, img_lr_valid, labels_valid = next(\n",
    "                        validation_dataset_iterator\n",
    "                    )\n",
    "                    \n",
    "                    \n",
    "                    ###\n",
    "                    img_clean_valid = datacrop(img_clean_valid, size = cropsize)\n",
    "                    img_lr_valid = datacrop(img_lr_valid, size = cropsize)\n",
    "                    ###\n",
    "                    \n",
    "                    \n",
    "\n",
    "                    img_clean_valid = (\n",
    "                        img_clean_valid.to(dist.device)\n",
    "                        .to(torch.float32)\n",
    "                        .contiguous()\n",
    "                    )\n",
    "                    img_lr_valid = (\n",
    "                        img_lr_valid.to(dist.device).to(torch.float32).contiguous()\n",
    "                    )\n",
    "                    labels_valid = labels_valid.to(dist.device).contiguous()\n",
    "                    loss_valid = loss_fn(\n",
    "                        net=model,\n",
    "                        img_clean=img_clean_valid,\n",
    "                        img_lr=img_lr_valid,\n",
    "                        labels=labels_valid,\n",
    "                        augment_pipe=None,\n",
    "                    )\n",
    "                    loss_valid = (\n",
    "                        (loss_valid.sum() / batch_size_per_gpu).cpu().item()\n",
    "                    )\n",
    "                    valid_loss_accum += (\n",
    "                            loss_valid / cfg.training.io.validation_steps\n",
    "                    )\n",
    "                valid_loss_sum = torch.tensor(\n",
    "                    [valid_loss_accum], device=dist.device\n",
    "                )\n",
    "                if dist.world_size > 1:\n",
    "                    torch.distributed.barrier()\n",
    "                    torch.distributed.all_reduce(\n",
    "                        valid_loss_sum, op=torch.distributed.ReduceOp.SUM\n",
    "                    )\n",
    "                average_valid_loss = valid_loss_sum / dist.world_size\n",
    "                if dist.rank == 0:\n",
    "                    writer.add_scalar(\n",
    "                        \"validation_loss\", average_valid_loss, cur_nimg\n",
    "                    )\n",
    "\n",
    "    if is_time_for_periodic_task(\n",
    "            cur_nimg,\n",
    "            cfg.training.io.print_progress_freq,\n",
    "            done,\n",
    "            cfg.training.hp.total_batch_size,\n",
    "            dist.rank,\n",
    "            rank_0_only=True,\n",
    "    ):\n",
    "        # Print stats if we crossed the printing threshold with this batch\n",
    "        tick_end_time = time.time()\n",
    "        fields = []\n",
    "        fields += [f\"samples {cur_nimg:<9.1f}\"]\n",
    "        fields += [f\"training_loss {average_loss:<7.2f}\"]\n",
    "        fields += [f\"learning_rate {current_lr:<7.8f}\"]\n",
    "        fields += [f\"total_sec {(tick_end_time - start_time):<7.1f}\"]\n",
    "        fields += [f\"sec_per_tick {(tick_end_time - tick_start_time):<7.1f}\"]\n",
    "        fields += [\n",
    "            f\"sec_per_sample {((tick_end_time - tick_start_time) / (cur_nimg - tick_start_nimg)):<7.2f}\"\n",
    "        ]\n",
    "        fields += [\n",
    "            f\"cpu_mem_gb {(psutil.Process(os.getpid()).memory_info().rss / 2**30):<6.2f}\"\n",
    "        ]\n",
    "        fields += [\n",
    "            f\"peak_gpu_mem_gb {(torch.cuda.max_memory_allocated(dist.device) / 2**30):<6.2f}\"\n",
    "        ]\n",
    "        fields += [\n",
    "            f\"peak_gpu_mem_reserved_gb {(torch.cuda.max_memory_reserved(dist.device) / 2**30):<6.2f}\"\n",
    "        ]\n",
    "        logger0.info(\" \".join(fields))\n",
    "        torch.cuda.reset_peak_memory_stats()\n",
    "\n",
    "    # Save checkpoints\n",
    "    if dist.world_size > 1:\n",
    "        torch.distributed.barrier()\n",
    "    if is_time_for_periodic_task(\n",
    "            cur_nimg,\n",
    "            cfg.training.io.save_checkpoint_freq,\n",
    "            done,\n",
    "            cfg.training.hp.total_batch_size,\n",
    "            dist.rank,\n",
    "            rank_0_only=True,\n",
    "    ):\n",
    "        save_checkpoint(\n",
    "            path=f\"checkpoints_{cfg.model.name}\",\n",
    "            models=model,\n",
    "            optimizer=optimizer,\n",
    "            epoch=cur_nimg,\n",
    "        )\n",
    "\n",
    "# Done.\n",
    "logger0.info(\"Training Completed.\")"
   ]
  },
  {
   "cell_type": "code",
   "execution_count": null,
   "id": "aa4f49402f17aa31",
   "metadata": {},
   "outputs": [],
   "source": [
    "from datasets import base, cwb, hrrrmini"
   ]
  },
  {
   "cell_type": "code",
   "execution_count": 27,
   "id": "e297c09b691131bc",
   "metadata": {
    "ExecuteTime": {
     "end_time": "2024-10-23T05:54:22.426471Z",
     "start_time": "2024-10-23T05:54:22.406308Z"
    }
   },
   "outputs": [],
   "source": [
    "img_clean, img_lr, labels = next(dataset_iterator)\n",
    "img_clean = img_clean.to(dist.device).to(amp_dtype).contiguous()\n",
    "img_lr = img_lr.to(dist.device).to(amp_dtype).contiguous()\n",
    "labels = labels.to(dist.device).contiguous()"
   ]
  },
  {
   "cell_type": "code",
   "execution_count": null,
   "id": "3ff39af72cf6dac4",
   "metadata": {},
   "outputs": [],
   "source": [
    "known_datasets = {\"cwb\": cwb.get_zarr_dataset, \"hrrr_mini\": hrrrmini.HRRRMiniDataset}\n"
   ]
  },
  {
   "cell_type": "code",
   "execution_count": null,
   "id": "760c65cd209afe06",
   "metadata": {},
   "outputs": [],
   "source": [
    "dataset_cfg"
   ]
  },
  {
   "cell_type": "code",
   "execution_count": null,
   "id": "ae3429d9ba33dde6",
   "metadata": {},
   "outputs": [],
   "source": [
    "import copy\n",
    "\n",
    "config = copy.deepcopy(dataset_cfg)\n",
    "train_test_split = config.pop(\"train_test_split\", True)\n"
   ]
  },
  {
   "cell_type": "code",
   "execution_count": null,
   "id": "4e618e816c657789",
   "metadata": {},
   "outputs": [],
   "source": [
    "(dataset, dataset_iter) = init_dataset_from_config(\n",
    "    config, data_loader_kwargs, batch_size=cfg.training.hp.batch_size_per_gpu, seed=0)"
   ]
  },
  {
   "cell_type": "code",
   "execution_count": null,
   "id": "dc91476a59ca626c",
   "metadata": {},
   "outputs": [],
   "source": [
    "valid_dataset_cfg = copy.deepcopy(config)\n",
    "validation_dataset_cfg = {\"train\": False, \"all_times\": False}\n",
    "valid_dataset_cfg.update(validation_dataset_cfg)"
   ]
  },
  {
   "cell_type": "code",
   "execution_count": null,
   "id": "d0b32ea453c19b4e",
   "metadata": {},
   "outputs": [],
   "source": [
    "config"
   ]
  },
  {
   "cell_type": "code",
   "execution_count": null,
   "id": "3513003bcf1f6d5f",
   "metadata": {},
   "outputs": [],
   "source": [
    "valid_dataset_cfg"
   ]
  },
  {
   "cell_type": "code",
   "execution_count": null,
   "id": "c9ef16b3bde50861",
   "metadata": {},
   "outputs": [],
   "source": [
    "dataset_init_func"
   ]
  },
  {
   "cell_type": "code",
   "execution_count": null,
   "id": "e30aad32aebf77ba",
   "metadata": {},
   "outputs": [],
   "source": [
    "(valid_dataset, valid_dataset_iter) = init_dataset_from_config(\n",
    "    valid_dataset_cfg, dataloader_cfg, batch_size=batch_size, seed=seed\n",
    ")"
   ]
  },
  {
   "cell_type": "code",
   "execution_count": null,
   "id": "2aed0c7ad25ccc90",
   "metadata": {},
   "outputs": [],
   "source": [
    "import copy\n",
    "dataset_cfg = copy.deepcopy(OmegaConf.to_container(cfg.dataset))\n",
    "dataset_type = dataset_cfg.pop(\"type\")\n",
    "if \"train_test_split\" in dataset_cfg:\n",
    "    # handled by init_train_valid_datasets_from_config\n",
    "    del dataset_cfg[\"train_test_split\"]\n",
    "dataset_init_func = known_datasets[dataset_type]"
   ]
  },
  {
   "cell_type": "code",
   "execution_count": null,
   "id": "7a7559a869d7492",
   "metadata": {},
   "outputs": [],
   "source": [
    "dataset_cfg"
   ]
  },
  {
   "cell_type": "code",
   "execution_count": null,
   "id": "75fd6d3798f3233a",
   "metadata": {},
   "outputs": [],
   "source": [
    "dataset_obj = dataset_init_func(**dataset_cfg)"
   ]
  },
  {
   "cell_type": "code",
   "execution_count": null,
   "id": "70fbc316af6a5f2e",
   "metadata": {},
   "outputs": [],
   "source": [
    "from modulus.utils.generative import InfiniteSampler\n",
    "from modulus.distributed import DistributedManager"
   ]
  },
  {
   "cell_type": "code",
   "execution_count": null,
   "id": "b8bb2660b16e0e49",
   "metadata": {},
   "outputs": [],
   "source": [
    "dist = DistributedManager()\n",
    "dataset_sampler = InfiniteSampler(\n",
    "    dataset=dataset_obj, rank=dist.rank, num_replicas=dist.world_size, seed=0\n",
    ")"
   ]
  },
  {
   "cell_type": "code",
   "execution_count": null,
   "id": "26e5abac9871dd64",
   "metadata": {},
   "outputs": [],
   "source": [
    "dataset_sampler"
   ]
  },
  {
   "cell_type": "code",
   "execution_count": null,
   "id": "226195395dff5ac7",
   "metadata": {},
   "outputs": [],
   "source": [
    "dataset_iterator = iter(\n",
    "    torch.utils.data.DataLoader(\n",
    "        dataset=dataset_obj,\n",
    "        sampler=dataset_sampler,\n",
    "        batch_size=batch_size,\n",
    "        worker_init_fn=None,\n",
    "        **dataloader_cfg,\n",
    "    )\n",
    ")"
   ]
  },
  {
   "cell_type": "code",
   "execution_count": null,
   "id": "400f6d950af9ab7e",
   "metadata": {},
   "outputs": [],
   "source": [
    "dataset_cfg"
   ]
  },
  {
   "cell_type": "code",
   "execution_count": null,
   "id": "a486f7a0b96cae35",
   "metadata": {},
   "outputs": [],
   "source": [
    "train_test_split = dataset_cfg.pop(\"train\", True)"
   ]
  },
  {
   "cell_type": "code",
   "execution_count": 1,
   "id": "e036d1799360da5e",
   "metadata": {
    "ExecuteTime": {
     "end_time": "2024-10-23T09:15:58.146595Z",
     "start_time": "2024-10-23T09:15:57.418244Z"
    }
   },
   "outputs": [],
   "source": [
    "import xarray as xr\n",
    "import numpy as np\n",
    "data_path = '/home/sprixin/test/zhangmy/hrrr_mini/hrrr_mini_train.nc'\n",
    "with xr.open_dataset(data_path) as ds:\n",
    "    times = np.array(ds[\"time\"])\n",
    "    coords = np.array(ds[\"coord\"])"
   ]
  },
  {
   "cell_type": "code",
   "execution_count": 28,
   "id": "723b184f894a4d5a",
   "metadata": {
    "ExecuteTime": {
     "end_time": "2024-10-24T05:50:51.554803Z",
     "start_time": "2024-10-24T05:50:50.343494Z"
    }
   },
   "outputs": [],
   "source": [
    "import matplotlib.pyplot as plt"
   ]
  },
  {
   "cell_type": "code",
   "execution_count": 21,
   "id": "748a209c9dc58d5a",
   "metadata": {
    "ExecuteTime": {
     "end_time": "2024-11-01T11:26:35.622628Z",
     "start_time": "2024-11-01T11:26:34.703611Z"
    }
   },
   "outputs": [],
   "source": [
    "glr = []\n",
    "lr = 2e-4\n",
    "lr_decay = 0.97\n",
    "lr_rampup = 100000\n",
    "for cur_nimg in range(2000000):\n",
    "    if lr_rampup > 0:\n",
    "        g = lr * min(cur_nimg / lr_rampup, 1)\n",
    "    if cur_nimg >= lr_rampup:\n",
    "        g = g * lr_decay ** ((cur_nimg - lr_rampup) // (lr_rampup // 2))\n",
    "    glr.append(g)"
   ]
  },
  {
   "cell_type": "code",
   "execution_count": 22,
   "id": "6b219bbf823be7b3",
   "metadata": {
    "ExecuteTime": {
     "end_time": "2024-11-01T11:26:43.048542Z",
     "start_time": "2024-11-01T11:26:35.624278Z"
    }
   },
   "outputs": [
    {
     "data": {
      "text/plain": [
       "[<matplotlib.lines.Line2D at 0x7f52037aba90>]"
      ]
     },
     "execution_count": 22,
     "metadata": {},
     "output_type": "execute_result"
    },
    {
     "data": {
      "image/png": "[encoded data removed]",
      "text/plain": [
       "<Figure size 640x480 with 1 Axes>"
      ]
     },
     "metadata": {},
     "output_type": "display_data"
    }
   ],
   "source": [
    "import numpy as np\n",
    "import matplotlib.pyplot as plt\n",
    "plt.plot(np.array(glr))"
   ]
  },
  {
   "cell_type": "code",
   "execution_count": null,
   "id": "1dc6985ebcd8ca32",
   "metadata": {},
   "outputs": [],
   "source": []
  }
 ],
 "metadata": {
  "kernelspec": {
   "display_name": "Python 3",
   "language": "python",
   "name": "python3"
  },
  "language_info": {
   "codemirror_mode": {
    "name": "ipython",
    "version": 2
   },
   "file_extension": ".py",
   "mimetype": "text/x-python",
   "name": "python",
   "nbconvert_exporter": "python",
   "pygments_lexer": "ipython2",
   "version": "2.7.6"
  }
 },
 "nbformat": 4,
 "nbformat_minor": 5
}
