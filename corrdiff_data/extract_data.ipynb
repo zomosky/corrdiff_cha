{
 "cells": [
  {
   "cell_type": "code",
   "id": "initial_id",
   "metadata": {
    "collapsed": true,
    "ExecuteTime": {
     "end_time": "2024-11-18T10:43:03.662250Z",
     "start_time": "2024-11-18T10:43:03.660070Z"
    }
   },
   "source": [
    "import os\n",
    "from typing import Tuple, List\n",
    "\n",
    "import yaml\n",
    "from datetime import datetime, timedelta\n",
    "import pandas as pd\n",
    "import numpy as np\n",
    "import netCDF4 as nc\n",
    "import xarray as xr\n",
    "import zarr"
   ],
   "outputs": [],
   "execution_count": 213
  },
  {
   "metadata": {},
   "cell_type": "code",
   "source": [
    "def extract_time(configtime: str) -> tuple[list, list]:\n",
    "    if '-' in configtime:\n",
    "        trange = configtime.split('-')\n",
    "        ranges = datetime.strptime(trange[0], '%Y%m')\n",
    "        rangee = datetime.strptime(trange[1], '%Y%m')\n",
    "        dd = (rangee - ranges).days + 1\n",
    "        print(f'\\n>>>> Extract Time Length --> {dd} <<<<')\n",
    "        readday = [(ranges + timedelta(days=f)).strftime('%Y%m%d') for f in range(dd)]\n",
    "        createmon = []\n",
    "        curday = ranges\n",
    "        while curday < rangee:\n",
    "            createmon.append(curday.strftime('%Y%m'))\n",
    "            curday = curday.replace(day=1) + timedelta(days=31)\n",
    "            curday = curday.replace(day=1)       \n",
    "        return  readday, createmon\n",
    "    else:\n",
    "        print(f'\\n>>>> Extract Time Length --> 1 <<<<')\n",
    "        readday = [datetime.strptime(configtime, '%Y%m%d').strftime('%Y%m%d')]\n",
    "        \n",
    "        return  readday, readday\n",
    "\n",
    "def area_index(lon, lat, lonaxis, lataxis):\n",
    "    lonaxes = np.where((lon >= min(lonaxis)) & (lon <= max(lonaxis)))[0]\n",
    "    lataxes = np.where((lat >= min(lataxis)) & (lat <= max(lataxis)))[0]\n",
    "    return lonaxes[0], lonaxes[-1], lataxes[0], lataxes[-1]\n",
    "\n",
    "def NCwriter():\n",
    "    savepath = config['savepath']\n",
    "    savefile = savepath + create + '.nc'\n",
    "    if os.path.exists(savefile):\n",
    "        os.remove(savefile)\n",
    "\n",
    "    ds = xr.Dataset(\n",
    "        {\n",
    "            \"variable\": ((\"time\",\"var_num\", \"latitude\", \"longitude\"), extract_data)\n",
    "        },\n",
    "        coords={\n",
    "            \"time\": extract_data_time,\n",
    "            \"longitude\": longitude[index_w: index_e + 1],\n",
    "            \"latitude\": latitude[index_s: index_n + 1],\n",
    "            \"var_num\": variable_name\n",
    "        }\n",
    "    )\n",
    "    ds.to_netcdf(savefile)"
   ],
   "id": "5b098aee50003c35",
   "outputs": [],
   "execution_count": null
  },
  {
   "metadata": {},
   "cell_type": "code",
   "outputs": [],
   "execution_count": null,
   "source": [
    "def Level_channel_name():\n",
    "    level_channel_name = []\n",
    "    if (not config['levelchannel'] == []) & (not config['level_variable'] == []):\n",
    "        print('<- Level1 Channel: ', config['levelchannel'], ' ->')\n",
    "        print('<- Level1 Variable: ', config['level_variable'], ' ->')\n",
    "        for var in config['level_variable']:\n",
    "            for le in config['levelchannel']:\n",
    "                level_channel_name.append(var + str(le))\n",
    "\n",
    "    if (not config['levelchannel2'] == []) & (not config['level_variable2'] == []):\n",
    "        print('<- Level1 Channel: ', config['levelchannel2'], ' ->')\n",
    "        print('<- Level1 Variable: ', config['level_variable2'], ' ->')\n",
    "        for var in config['level_variable2']:\n",
    "            for le in config['levelchannel2']:\n",
    "                level_channel_name.append(var + str(le))\n",
    "\n",
    "    if (not config['levelchannel3'] == []) & (not config['level_variable3'] == []):\n",
    "        print('<- Level1 Channel: ', config['levelchannel3'], ' ->')\n",
    "        print('<- Level1 Variable: ', config['level_variable3'], ' ->')\n",
    "        for var in config['level_variable3']:\n",
    "            for le in config['levelchannel3']:\n",
    "                level_channel_name.append(var + str(le))\n",
    "    \n",
    "    return level_channel_name"
   ],
   "id": "677a3d991c17eff0"
  },
  {
   "metadata": {
    "ExecuteTime": {
     "end_time": "2024-11-18T10:45:18.818221Z",
     "start_time": "2024-11-18T10:45:18.812195Z"
    }
   },
   "cell_type": "code",
   "outputs": [],
   "execution_count": 222,
   "source": [
    "\n",
    "def extract_data_single_var(data):\n",
    "    \"\"\"extract single variable by slice\"\"\"\n",
    "    lonslic = slice(index_w, index_e + 1)\n",
    "    latslic = slice(index_s, index_n + 1)\n",
    "    timeslic = slice(config['timechannel'][0], config['timechannel'][-1] + 1)\n",
    "    lonindex = config['single_variable_coor'].index('lon')\n",
    "    latindex = config['single_variable_coor'].index('lat')\n",
    "    timeindex = config['single_variable_coor'].index('time')\n",
    "    singslic = [slice(None)] * 3\n",
    "    singslic[lonindex] = lonslic\n",
    "    singslic[latindex] = latslic\n",
    "    singslic[timeindex] = timeslic\n",
    "    return np.array(data[tuple(singslic)])\n",
    "\n",
    "def extract_data_level_var(data, le):\n",
    "    \"\"\"extract level variable by slice and level channel\"\"\"\n",
    "    lonslic = slice(index_w, index_e + 1)\n",
    "    latslic = slice(index_s, index_n + 1)\n",
    "    timeslic = slice(config['timechannel'][0], config['timechannel'][-1] + 1)\n",
    "    levelslic = le\n",
    "    lonindex = config['level_variable_coor'].index('lon')\n",
    "    latindex = config['level_variable_coor'].index('lat')\n",
    "    timeindex = config['level_variable_coor'].index('time')\n",
    "    levelindex = config['level_variable_coor'].index('level')\n",
    "    levslic = [slice(None)] * 4\n",
    "    levslic[lonindex] = lonslic\n",
    "    levslic[latindex] = latslic\n",
    "    levslic[timeindex] = timeslic\n",
    "    levslic[levelindex] = levelslic\n",
    "    return np.array(data[tuple(levslic)])\n",
    "    \n",
    "    "
   ],
   "id": "8346ddf40846829c"
  },
  {
   "metadata": {
    "ExecuteTime": {
     "end_time": "2024-11-18T10:45:21.780711Z",
     "start_time": "2024-11-18T10:45:21.775952Z"
    }
   },
   "cell_type": "code",
   "source": [
    "yamlpath = './extract_test.yaml'\n",
    "with open(yamlpath, 'r') as f:\n",
    "    config = yaml.safe_load(f)\n",
    "\n",
    "## set file name to read in hour\n",
    "filename = '_12.nc'\n"
   ],
   "id": "87867f2419124f6f",
   "outputs": [],
   "execution_count": 223
  },
  {
   "metadata": {
    "ExecuteTime": {
     "end_time": "2024-11-18T10:45:25.120509Z",
     "start_time": "2024-11-18T10:45:25.115182Z"
    }
   },
   "cell_type": "code",
   "source": [
    "print('========start extracting data========')\n",
    "print('>>>> Config <<<<')\n",
    "print(config)\n",
    "print(f'\\n>>>> Single Variable Num --> {len(config['single_variable'])} <<<<')\n",
    "print(f'<- Single Variable: {config['single_variable']} ->')\n",
    "print(f'\\n>>>> Levles Variable Num --> {len(config['level_variable']) * len(config['levelchannel'])} <<<<')\n",
    "print(f'<- Level Channel: {config['levelchannel']} ->')\n",
    "print(f'<- Level Variable: {config['level_variable']} ->')\n",
    "extime, creatfile = extract_time(config['time'])\n",
    "variable_num = len(config['single_variable']) + len(config['level_variable']) * len(config['levelchannel'])\n",
    "variable_name = config['single_variable']\n",
    "\n",
    "if (not config['levelchannel'] ==[]) & (not config['level_variable'] == []):\n",
    "    for var in config['level_variable']:\n",
    "        for le in config['level']:\n",
    "            lename = var + le\n",
    "            variable_name.append(lename)\n",
    "\n",
    "print(f'\\n!!>> Variable Extract Num --> {variable_num} <<!!')\n",
    "print(f'<- {variable_name} ->')\n",
    "\n",
    "if config['path'][-1] == '/':\n",
    "    filelist = [f for f in os.listdir(config['path']) if filename in f]\n",
    "    filelist.sort()\n",
    "    readfile = [(config['path'] + f + filename) for f in extime if (f + filename) in filelist]\n",
    "\n",
    "else:\n",
    "    filelist = config['path'].split('/')[-1]\n",
    "    filelist.sort()\n",
    "    readfile = [config['path']]\n",
    "print(f'\\n>>>> Extract File Number --> {len(readfile)} <<<<')\n",
    "channels_name = config\n",
    "if len(readfile) == 0:raise ValueError('Config time error, path number = 0 ')"
   ],
   "id": "4bb7c040dbe339f4",
   "outputs": [
    {
     "name": "stdout",
     "output_type": "stream",
     "text": [
      "========start extracting data========\n",
      ">>>> Config <<<<\n",
      "{'path': '/Users/zmy/dataset/', 'lon': 'longitude', 'lat': 'latitude', 'lonax': [70, 140], 'latax': [5, 60], 'time': '202409-202412', 'timechannel': [2, 9], 'single_variable': ['AOD550_DUST', 'AOD550_CLOUD', 'AOD550_BC'], 'single_variable_coor': ['time', 'lat', 'lon'], 'level_variable': ['u_m', 'v_m'], 'level_variable_coor': ['time', 'level', 'lat', 'lon'], 'levelchannel': [], 'savepath': './'}\n",
      "\n",
      ">>>> Single Variable Num --> 3 <<<<\n",
      "<- Single Variable: ['AOD550_DUST', 'AOD550_CLOUD', 'AOD550_BC'] ->\n",
      "\n",
      ">>>> Levles Variable Num --> 0 <<<<\n",
      "<- Level Channel: [] ->\n",
      "<- Level Variable: ['u_m', 'v_m'] ->\n",
      "\n",
      ">>>> Extract Time Length --> 92 <<<<\n",
      "\n",
      "!!>> Variable Extract Num --> 3 <<!!\n",
      "<- ['AOD550_DUST', 'AOD550_CLOUD', 'AOD550_BC'] ->\n",
      "\n",
      ">>>> Extract File Number --> 2 <<<<\n"
     ]
    }
   ],
   "execution_count": 224
  },
  {
   "metadata": {
    "ExecuteTime": {
     "end_time": "2024-11-18T10:43:06.674393Z",
     "start_time": "2024-11-18T10:43:06.641460Z"
    }
   },
   "cell_type": "code",
   "source": [
    "### extract variables\n",
    "\n",
    "\n",
    "for create in creatfile:\n",
    "    extract_data_time = []\n",
    "    extract_data = []\n",
    "    extractmon = [f for f in readfile if create in f]  \n",
    "    if not extractmon: continue\n",
    "    print(f'|> Files Exists in Create {create}: {len(extractmon)}')\n",
    "    for num in range(len(extractmon)):\n",
    "        print(f'|>|> Extract {num}/{len(extractmon)}', end='\\r')\n",
    "        extract_data_single = []\n",
    "        extract_data_level = []\n",
    "        fileread = extractmon[num]\n",
    "        ncfile = xr.open_dataset(fileread, engine=\"netcdf4\")\n",
    "        filetime = datetime.strptime(filelist[num], '%Y%m%d_%H.nc')\n",
    "        extracted_time = [filetime + timedelta(hours=8) + timedelta(hours=t *3) for t in range(config['timechannel'][0], config['timechannel'][-1] + 1)]\n",
    "        extract_data_time += extracted_time\n",
    "        ### find data index by lonax and latax in config\n",
    "        \n",
    "        if num == 0:\n",
    "            longitude = ncfile['longitude']\n",
    "            latitude = ncfile['latitude']\n",
    "            lonax = config['lonax']\n",
    "            latax = config['latax']\n",
    "            index_w, index_e, index_s, index_n = area_index(longitude, latitude, lonax, latax)\n",
    "        \n",
    "        if config['single_variable']:\n",
    "            for var in config['single_variable']:\n",
    "                single_var = ncfile[var]    \n",
    "                extract_data_single.append(extract_data_single_var(single_var))\n",
    "    \n",
    "        \n",
    "        if (not config['levelchannel'] ==[]) & (not config['level_variable'] == []):\n",
    "            for var in config['level_variable']:\n",
    "                data = ncfile[var]\n",
    "                for le in config['levelchannel']:\n",
    "                    extract_data_level.append(extract_data_level_var(data, le))\n",
    "\n",
    "        extract_data.append(np.array(extract_data_single + extract_data_level))\n",
    "        \n",
    "    if not extract_data: continue\n",
    "    else:\n",
    "        extract_data = np.concatenate(extract_data, axis=1).swapaxes(0, 1)\n",
    "        NCwriter()"
   ],
   "id": "9971c0c506ac0445",
   "outputs": [
    {
     "name": "stdout",
     "output_type": "stream",
     "text": [
      "|> Files Exists in Create 202411: 2\n",
      "|>|> Extract 1/2\r"
     ]
    },
    {
     "ename": "NameError",
     "evalue": "name 'NCwriter' is not defined",
     "output_type": "error",
     "traceback": [
      "\u001B[0;31m---------------------------------------------------------------------------\u001B[0m",
      "\u001B[0;31mNameError\u001B[0m                                 Traceback (most recent call last)",
      "Cell \u001B[0;32mIn[217], line 45\u001B[0m\n\u001B[1;32m     43\u001B[0m \u001B[38;5;28;01melse\u001B[39;00m:\n\u001B[1;32m     44\u001B[0m     extract_data \u001B[38;5;241m=\u001B[39m np\u001B[38;5;241m.\u001B[39mconcatenate(extract_data, axis\u001B[38;5;241m=\u001B[39m\u001B[38;5;241m1\u001B[39m)\u001B[38;5;241m.\u001B[39mswapaxes(\u001B[38;5;241m0\u001B[39m, \u001B[38;5;241m1\u001B[39m)\n\u001B[0;32m---> 45\u001B[0m     NCwriter()\n",
      "\u001B[0;31mNameError\u001B[0m: name 'NCwriter' is not defined"
     ]
    }
   ],
   "execution_count": 217
  },
  {
   "metadata": {},
   "cell_type": "code",
   "outputs": [],
   "execution_count": null,
   "source": "",
   "id": "8de9c2697345bd6c"
  }
 ],
 "metadata": {
  "kernelspec": {
   "display_name": "Python 3",
   "language": "python",
   "name": "python3"
  },
  "language_info": {
   "codemirror_mode": {
    "name": "ipython",
    "version": 2
   },
   "file_extension": ".py",
   "mimetype": "text/x-python",
   "name": "python",
   "nbconvert_exporter": "python",
   "pygments_lexer": "ipython2",
   "version": "2.7.6"
  }
 },
 "nbformat": 4,
 "nbformat_minor": 5
}
